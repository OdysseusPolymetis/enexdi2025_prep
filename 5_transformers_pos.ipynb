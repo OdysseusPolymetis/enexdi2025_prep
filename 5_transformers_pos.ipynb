{
  "nbformat": 4,
  "nbformat_minor": 0,
  "metadata": {
    "colab": {
      "provenance": [],
      "authorship_tag": "ABX9TyOr3ob1tD3Yg7cJQb5Tyniw",
      "include_colab_link": true
    },
    "kernelspec": {
      "name": "python3",
      "display_name": "Python 3"
    },
    "language_info": {
      "name": "python"
    }
  },
  "cells": [
    {
      "cell_type": "markdown",
      "metadata": {
        "id": "view-in-github",
        "colab_type": "text"
      },
      "source": [
        "<a href=\"https://colab.research.google.com/github/OdysseusPolymetis/enexdi2025_prep/blob/main/5_transformers_pos.ipynb\" target=\"_parent\"><img src=\"https://colab.research.google.com/assets/colab-badge.svg\" alt=\"Open In Colab\"/></a>"
      ]
    },
    {
      "cell_type": "markdown",
      "source": [
        "#POStagging with Multilingual Transformers"
      ],
      "metadata": {
        "id": "i4eR6FwJiC_R"
      }
    },
    {
      "cell_type": "markdown",
      "source": [
        "As we saw previously, the great strength of transformers is that they can do pretty much everything. But what is maybe actually even more interesting is that they ca be language agnostic."
      ],
      "metadata": {
        "id": "j_-dZYhGiLc3"
      }
    },
    {
      "cell_type": "markdown",
      "source": [
        "For example, when you talk with ChatGPT or any other model, they can switch from one model to another. This is because they were trained on huge amounts of multilingual data at once. Let's try."
      ],
      "metadata": {
        "id": "_RoVWQ8niZaH"
      }
    },
    {
      "cell_type": "code",
      "execution_count": null,
      "metadata": {
        "id": "atDkokV20lHO"
      },
      "outputs": [],
      "source": [
        "!pip install transformers nltk"
      ]
    },
    {
      "cell_type": "code",
      "source": [
        "from nltk.tokenize import sent_tokenize\n",
        "import nltk\n",
        "nltk.download('punkt')\n",
        "nltk.download('punkt_tab')"
      ],
      "metadata": {
        "id": "geeUmyW501go"
      },
      "execution_count": null,
      "outputs": []
    },
    {
      "cell_type": "code",
      "source": [
        "text = \"\"\"\n",
        "Tant qu’il existera, par le fait des lois et des mœurs, une damnation sociale créant artificiellement, en pleine civilisation, des enfers, et compliquant d’une fatalité humaine la destinée qui est divine ; tant que les trois problèmes du siècle, la dégradation de l’homme par le prolétariat, la déchéance de la femme par la faim, l’atrophie de l’enfant par la nuit, ne seront pas résolus ; tant que, dans de certaines régions, l’asphyxie sociale sera possible ; en d’autres termes, et à un point de vue plus étendu encore, tant qu’il y aura sur la terre ignorance et misère, des livres de la nature de celui-ci pourront ne pas être inutiles.\n",
        "\"\"\""
      ],
      "metadata": {
        "id": "NqdTwOAI1GjV"
      },
      "execution_count": null,
      "outputs": []
    },
    {
      "cell_type": "code",
      "source": [
        "text = \"Aujourd'hui, maman est morte. Ou peut-être hier, je ne sais pas. J'ai reçu un télégramme de l'asile : “Mère décédée. Enterrement demain. Sentiments distingués.” Cela ne veut rien dire. C'était peut-être hier.\""
      ],
      "metadata": {
        "id": "h-rSR2-h2hr1"
      },
      "execution_count": null,
      "outputs": []
    },
    {
      "cell_type": "code",
      "source": [
        "sentences = sent_tokenize(text)"
      ],
      "metadata": {
        "id": "noVx6yxL1_-i"
      },
      "execution_count": null,
      "outputs": []
    },
    {
      "cell_type": "code",
      "source": [
        "len(sentences)"
      ],
      "metadata": {
        "id": "SzFfKTqc2Cgk"
      },
      "execution_count": null,
      "outputs": []
    },
    {
      "cell_type": "code",
      "source": [
        "from transformers import pipeline\n",
        "pipe = pipeline(\"token-classification\",\n",
        "                model=\"jordigonzm/mdeberta-v3-base-multilingual-pos-tagger\",\n",
        "                aggregation_strategy=\"simple\")"
      ],
      "metadata": {
        "id": "j6QQ1Wer2X85"
      },
      "execution_count": null,
      "outputs": []
    },
    {
      "cell_type": "code",
      "source": [
        "for i, sentence in enumerate(sentences):\n",
        "    print(f\"\\nPhrase {i}: {sentence}\")\n",
        "    for res in pipe(sentence):\n",
        "        word = res['word'].lstrip('▁')\n",
        "        pos = res['entity_group']\n",
        "        print(f\"  {word} → {pos}\")"
      ],
      "metadata": {
        "id": "cYqJcCNs4NZI"
      },
      "execution_count": null,
      "outputs": []
    }
  ]
}