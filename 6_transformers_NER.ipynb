{
  "nbformat": 4,
  "nbformat_minor": 0,
  "metadata": {
    "colab": {
      "provenance": [],
      "authorship_tag": "ABX9TyNLzBhLdsJrasTIJxALIKxa",
      "include_colab_link": true
    },
    "kernelspec": {
      "name": "python3",
      "display_name": "Python 3"
    },
    "language_info": {
      "name": "python"
    }
  },
  "cells": [
    {
      "cell_type": "markdown",
      "metadata": {
        "id": "view-in-github",
        "colab_type": "text"
      },
      "source": [
        "<a href=\"https://colab.research.google.com/github/OdysseusPolymetis/enexdi2025_prep/blob/main/6_transformers_NER.ipynb\" target=\"_parent\"><img src=\"https://colab.research.google.com/assets/colab-badge.svg\" alt=\"Open In Colab\"/></a>"
      ]
    },
    {
      "cell_type": "markdown",
      "source": [
        "# Multilingual Named Entity Recognition with Transformers"
      ],
      "metadata": {
        "id": "sDYcOBF_kVAn"
      }
    },
    {
      "cell_type": "code",
      "source": [
        "!pip install transformers nltk"
      ],
      "metadata": {
        "id": "SvKlAeZCjeEF"
      },
      "execution_count": null,
      "outputs": []
    },
    {
      "cell_type": "code",
      "execution_count": null,
      "metadata": {
        "id": "WiEfEqXTjUVT"
      },
      "outputs": [],
      "source": [
        "from transformers import pipeline\n",
        "\n",
        "pipe = pipeline(\"ner\", model=\"Davlan/distilbert-base-multilingual-cased-ner-hrl\", aggregation_strategy=\"simple\")"
      ]
    },
    {
      "cell_type": "code",
      "source": [
        "text = \"C'était à Mégara, faubourg de Carthage, dans les jardins d'Hamilcar. Les soldats qu'il avait commandés en Sicile se donnaient un grand festin pour célébrer le jour anniversaire de la bataille d'Eryx, et comme le maître était absent et qu'ils se trouvaient nombreux, ils mangeaient et ils buvaient en pleine liberté.\"\n",
        "ner_results = pipe(text)\n",
        "print(ner_results)"
      ],
      "metadata": {
        "id": "gTCetRG6jamx"
      },
      "execution_count": null,
      "outputs": []
    }
  ]
}