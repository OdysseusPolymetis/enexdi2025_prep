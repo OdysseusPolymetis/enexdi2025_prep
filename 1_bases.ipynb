{
  "nbformat": 4,
  "nbformat_minor": 0,
  "metadata": {
    "colab": {
      "provenance": [],
      "mount_file_id": "1l6FrC5oXpha66KglFXfNh2EwXGs62aRa",
      "authorship_tag": "ABX9TyN8zPuDSM2vZLZWrD/N8UJJ",
      "include_colab_link": true
    },
    "kernelspec": {
      "name": "python3",
      "display_name": "Python 3"
    },
    "language_info": {
      "name": "python"
    }
  },
  "cells": [
    {
      "cell_type": "markdown",
      "metadata": {
        "id": "view-in-github",
        "colab_type": "text"
      },
      "source": [
        "<a href=\"https://colab.research.google.com/github/OdysseusPolymetis/enexdi2025_prep/blob/main/1_bases.ipynb\" target=\"_parent\"><img src=\"https://colab.research.google.com/assets/colab-badge.svg\" alt=\"Open In Colab\"/></a>"
      ]
    },
    {
      "cell_type": "markdown",
      "source": [
        "#**BASICS IN PYTHON**"
      ],
      "metadata": {
        "id": "I4KAmYwG6Vvk"
      }
    },
    {
      "cell_type": "markdown",
      "source": [
        "I'll explain later on what the different lines are supposed to do, but for the time being, just remember this: in colab, when you want to execute code, you just have to click on the play button (▶) of the code cell, or press maj+enter (⬆ + ↩)."
      ],
      "metadata": {
        "id": "09EEOSRFAItX"
      }
    },
    {
      "cell_type": "markdown",
      "source": [
        "##Variables"
      ],
      "metadata": {
        "id": "0yVxDD3LKtxh"
      }
    },
    {
      "cell_type": "markdown",
      "source": [
        "![variables](https://mw.home.amu.edu.pl/zajecia/PPR2017/var.gif \"variables\")\n"
      ],
      "metadata": {
        "id": "-aIicB8QLpQT"
      }
    },
    {
      "cell_type": "markdown",
      "source": [
        "##Variable types\n",
        "Some text in your code is going to appear like this (in red) : <font color='red'>\"miserables.txt\"</font> and are usually between quotes, while others will appear in green, like <font color='green'>40</font>, and don't have quotes. That's because they are different kinds of data."
      ],
      "metadata": {
        "id": "gvvRCqlMVq0C"
      }
    },
    {
      "cell_type": "markdown",
      "source": [
        "| Data Type       | Explanation          | Example  |\n",
        "| ------------- |:-------------:| -----:|\n",
        "| String     | Text | ```\"lemonade\"``` |\n",
        "| Integer     | Whole Numbers      |   <font color='green'>```40```</font> |\n",
        "| Float | Decimal Numbers      |   <font color='green'>```40.2```</font> |\n",
        "| Boolean | True/False     |   <font color='green'>**```False```**</font> |"
      ],
      "metadata": {
        "id": "cT4IbDrcXC7B"
      }
    },
    {
      "cell_type": "markdown",
      "source": [
        "You can easily check what type of variable you're using."
      ],
      "metadata": {
        "id": "VV1nMpWYYD0z"
      }
    },
    {
      "cell_type": "code",
      "source": [
        "type(\"lemonade\")"
      ],
      "metadata": {
        "id": "Mhg8CrVdYH6D"
      },
      "execution_count": null,
      "outputs": []
    },
    {
      "cell_type": "code",
      "source": [
        "type(40.8)"
      ],
      "metadata": {
        "id": "QA0AkBL2YTRQ"
      },
      "execution_count": null,
      "outputs": []
    },
    {
      "cell_type": "markdown",
      "source": [
        "##Indentation"
      ],
      "metadata": {
        "id": "jaQ-utDc35tV"
      }
    },
    {
      "cell_type": "markdown",
      "source": [
        "<img src='https://drive.google.com/uc?export=view&id=1_7lZJ4qI5K9Ha0B_nRjt6qw4klt7opYg' width=\"1000\">"
      ],
      "metadata": {
        "id": "AKKaPNRH39zP"
      }
    },
    {
      "cell_type": "markdown",
      "source": [
        "##Functions\n",
        "We're going to deal with objects, we want to do stuff with them, like lemmatization, postagging, etc.\n",
        "So we'll need functions, that is to say predefined actions to be executed when called, with potential parameters."
      ],
      "metadata": {
        "id": "a9aLQQCpNlP3"
      }
    },
    {
      "cell_type": "code",
      "source": [
        "def split_into_words(any_chunk_of_text):\n",
        "    words = re.split(\"\\W+\", any_chunk_of_text.lower())\n",
        "    return words"
      ],
      "metadata": {
        "id": "MCsRdtIHKy_J"
      },
      "execution_count": null,
      "outputs": []
    },
    {
      "cell_type": "markdown",
      "source": [
        "<img src='https://drive.google.com/uc?export=view&id=1IN-omiNV2tUXftyqaTBNO8aF-dMQPHiF' width=\"1000\">"
      ],
      "metadata": {
        "id": "n38OqIOtv-5d"
      }
    },
    {
      "cell_type": "markdown",
      "source": [
        "<img src='https://drive.google.com/uc?export=view&id=1hKB-GHN95o0E0CLDrBl75CQ2UlTObsJz' width=\"1000\">"
      ],
      "metadata": {
        "id": "Oy67qTtMwQEy"
      }
    },
    {
      "cell_type": "markdown",
      "source": [
        "##Loops"
      ],
      "metadata": {
        "id": "gIo2Y0SNwju_"
      }
    },
    {
      "cell_type": "markdown",
      "source": [
        "You don't want to write the same action indefinitely : eg, if you need to lemmatize a text, you won't write \"lemmatize this word\" a thousand times. So you're going to create loops that do those repetitions for you. They are conditional and will stop according to the parameters you've given them.\n",
        "<br>Eg, I've got a text that is a thousand words long, lemmatize the words while there still are words that you haven't lemmatized yet, and then stop."
      ],
      "metadata": {
        "id": "mJI3gGOhxATl"
      }
    },
    {
      "cell_type": "markdown",
      "source": [
        "<img src='https://drive.google.com/uc?export=view&id=1XKcA0ffSy3i6A0S5jWI7LPz7-PbZ1T88' width=\"1000\">"
      ],
      "metadata": {
        "id": "oIlA3y6fxqdu"
      }
    },
    {
      "cell_type": "markdown",
      "source": [
        "<img src='https://drive.google.com/uc?export=view&id=1yf_wPus-G__l4rjeY5I4vzc3rtdU31JC' width=\"1000\">"
      ],
      "metadata": {
        "id": "_IBs1hzMyMrH"
      }
    },
    {
      "cell_type": "markdown",
      "source": [
        "##Conditions"
      ],
      "metadata": {
        "id": "woYTd6ZHzENp"
      }
    },
    {
      "cell_type": "markdown",
      "source": [
        "That's what tells your computer program when to do things in certain conditions.\n",
        "<br>Eg, \"if you have words in the list, lemmatize them all\". Else, just stop.\n",
        "<br>One most well known structure for conditions in python is :\n",
        "\n",
        "<br>**`if`** `some_first_condition :`\n",
        "<br>&nbsp;&nbsp;&nbsp;&nbsp;&nbsp;&nbsp;`do_something()`\n",
        "<br>**`elif`** `some_second_condtion :`\n",
        "<br>&nbsp;&nbsp;&nbsp;&nbsp;&nbsp;&nbsp;`do_something_else()`\n",
        "<br>**`else`** `:`\n",
        "<br>&nbsp;&nbsp;&nbsp;&nbsp;&nbsp;&nbsp;`do_a_third_thing()`"
      ],
      "metadata": {
        "id": "9ghQrHrazGlV"
      }
    },
    {
      "cell_type": "markdown",
      "source": [
        "<img src='https://drive.google.com/uc?export=view&id=1VYhnaiNah0xsn1We5XR1LeoXnj2SKOJh' width=\"1000\">"
      ],
      "metadata": {
        "id": "APPclu803XlV"
      }
    },
    {
      "cell_type": "markdown",
      "source": [
        "##Modules\n",
        "That's one of python's great strengths : loads of functions have already been written by others, and you can import them directly in your script. In colab, for example, just chose your package on this [repo](https://pypi.org/), and download the module, using\n",
        "<br>```!pip install module```\n",
        "<br> The `!` introduces a shell command (not in python then) that you can directly run in a notebook."
      ],
      "metadata": {
        "id": "w-O2tZ2XOC8x"
      }
    },
    {
      "cell_type": "code",
      "source": [
        "!pip install stanza"
      ],
      "metadata": {
        "id": "roIMSon9FgZC"
      },
      "execution_count": null,
      "outputs": []
    },
    {
      "cell_type": "markdown",
      "source": [
        "You can then import the module."
      ],
      "metadata": {
        "id": "kK19v0gu3MHy"
      }
    },
    {
      "cell_type": "code",
      "source": [
        "import stanza"
      ],
      "metadata": {
        "id": "Iim_w1q3FnDv"
      },
      "execution_count": null,
      "outputs": []
    },
    {
      "cell_type": "markdown",
      "source": [
        "Some modules are pre-implemented in colab, or in jupyter, adn don't need downloading."
      ],
      "metadata": {
        "id": "VM9uDmJi3O8b"
      }
    },
    {
      "cell_type": "code",
      "source": [
        "import re\n",
        "from collections import Counter"
      ],
      "metadata": {
        "id": "xodiXwI2N6NG"
      },
      "execution_count": null,
      "outputs": []
    },
    {
      "cell_type": "markdown",
      "source": [
        "Here, with the `wget`command, you can download a text from the internet."
      ],
      "metadata": {
        "id": "3pbURU8S3XVx"
      }
    },
    {
      "cell_type": "code",
      "source": [
        "!wget https://raw.githubusercontent.com/OdysseusPolymetis/enexdi2025_prep/refs/heads/main/miserables.txt"
      ],
      "metadata": {
        "id": "cUfXFR7NaceQ"
      },
      "execution_count": null,
      "outputs": []
    },
    {
      "cell_type": "markdown",
      "source": [
        "Once your text is downloaded, which you can see by clicking on the folder icon to your left in this colab, you'll need to tell your program where to find it, and create a variable containing the location of your text (which is gonna be a `string` variable)."
      ],
      "metadata": {
        "id": "-qGYHIpj35Bx"
      }
    },
    {
      "cell_type": "code",
      "source": [
        "filepath_of_text = \"/content/miserables.txt\""
      ],
      "metadata": {
        "id": "kL087d_AOSzZ"
      },
      "execution_count": null,
      "outputs": []
    },
    {
      "cell_type": "code",
      "source": [
        "type(filepath_of_text)"
      ],
      "metadata": {
        "id": "RYAk9wz1Gw7w"
      },
      "execution_count": null,
      "outputs": []
    },
    {
      "cell_type": "markdown",
      "source": [
        "Now you can tell your script to read the text, that is to say open the file at the indicated location, read it in unicode and store it in a `string` variable."
      ],
      "metadata": {
        "id": "kM4xlQF2Pve6"
      }
    },
    {
      "cell_type": "code",
      "source": [
        "full_text = open(filepath_of_text, encoding=\"utf-8\").read()"
      ],
      "metadata": {
        "id": "QpGGAvpFPqiN"
      },
      "execution_count": null,
      "outputs": []
    },
    {
      "cell_type": "markdown",
      "source": [
        "You can print part of the variable (here from character 0 to 100) to check that the text has indeed been stored."
      ],
      "metadata": {
        "id": "VDtLV1574jEF"
      }
    },
    {
      "cell_type": "code",
      "source": [
        "print(full_text[0:100])"
      ],
      "metadata": {
        "id": "WpNa7yEmIYpH"
      },
      "execution_count": null,
      "outputs": []
    },
    {
      "cell_type": "markdown",
      "source": [
        "Now let's call the function we declared before (`split_into_words`), which basically splits the text into a list of words, created each time a non alphanumerical charater is encountered. You'll notice that creating the function did not do anything : to do something, after declaration, we need to actually call it."
      ],
      "metadata": {
        "id": "gw-gYHfrSSYh"
      }
    },
    {
      "cell_type": "code",
      "source": [
        "all_the_words = split_into_words(full_text)"
      ],
      "metadata": {
        "id": "rtip4PHxPw0-"
      },
      "execution_count": null,
      "outputs": []
    },
    {
      "cell_type": "markdown",
      "source": [
        "As the result is a list of words, if you ask to see part of it (here from element 50 to 60), you'll get the entire words.\n",
        "<br>Before, we asked elements 0 to 100 and that refered to characters, as the object we were splitting was a `string`, that is, a list of characters. Here, it's a list of strings, in other words a list of groups of characters."
      ],
      "metadata": {
        "id": "2HErcKLm5UYA"
      }
    },
    {
      "cell_type": "code",
      "source": [
        "all_the_words[50:60]"
      ],
      "metadata": {
        "id": "m8o9b1n6Sce8"
      },
      "execution_count": null,
      "outputs": []
    },
    {
      "cell_type": "markdown",
      "source": [
        "#Some useful tricks with Strings"
      ],
      "metadata": {
        "id": "pjbrvmsIYrcE"
      }
    },
    {
      "cell_type": "markdown",
      "source": [
        "One simple thing, the pre-implemented function `print()`, which prints any string on the screen."
      ],
      "metadata": {
        "id": "v1RevJOg6Arr"
      }
    },
    {
      "cell_type": "code",
      "source": [
        "first_line = full_text[98:194]\n",
        "print(first_line)"
      ],
      "metadata": {
        "id": "EvpU8o2sZA4a"
      },
      "execution_count": null,
      "outputs": []
    },
    {
      "cell_type": "markdown",
      "source": [
        "Here are some other pre-implemented `string` functions."
      ],
      "metadata": {
        "id": "uAVpy6px6Sue"
      }
    },
    {
      "cell_type": "markdown",
      "source": [
        "| **String Method** | **Explanation**                                                                                   |\n",
        "|:-------------:|:---------------------------------------------------------------------------------------------------:|\n",
        "| `string.lower()`         | makes the string lowercase                                                                                |\n",
        "| `string.upper()`         | makes the string uppercase  \n",
        "| `string.title()`         | makes the string titlecase\n",
        "| `string.strip()`         | removes lead and trailing white spaces     |\n",
        "| `string.replace('old string', 'new string')`      | replaces `old string` with `new string`          |\n",
        "| `string.split('delim')`          | returns a list of substrings separated by the given delimiter |\n",
        "| `string.join(list)`         | opposite of split(), joins the elements in the given list together using the string                                                                        |\n",
        "| `string.startswith('some string')`       | tests whether string begins with `some string` |                                                       |\n",
        "| `string.endswith('some string')`       |  tests whether string ends with `some string`   |\n",
        "| `string.isspace()`       |  tests whether string is a space |\n",
        "| `string.replace('old string', 'new string')`      | replaces `old string` with `new string`          |\n",
        "\n",
        "                                                            "
      ],
      "metadata": {
        "id": "LfCPzuAEaKji"
      }
    },
    {
      "cell_type": "markdown",
      "source": [
        "You can try :"
      ],
      "metadata": {
        "id": "GFV1eW01aggH"
      }
    },
    {
      "cell_type": "code",
      "source": [
        "print(first_line.replace(\"était\", \"est\"))\n",
        "print(first_line.lower())\n",
        "print(first_line.upper())\n",
        "print(first_line.title())"
      ],
      "metadata": {
        "id": "LrMw2B-Oai9H"
      },
      "execution_count": null,
      "outputs": []
    },
    {
      "cell_type": "markdown",
      "source": [
        "You can also split your text on a specific character (here the space character)."
      ],
      "metadata": {
        "id": "boE9ISzy6cbN"
      }
    },
    {
      "cell_type": "code",
      "source": [
        "first_line.split(\" \")"
      ],
      "metadata": {
        "id": "SqO3f58gbZsk"
      },
      "execution_count": null,
      "outputs": []
    },
    {
      "cell_type": "markdown",
      "source": [
        "##Import files\n",
        "You can't write in code the whole text you're going to analyze. As we saw, you can import it from a file where you stored it. It is generally recommended (especially if your text isn't in English) that you specify the character encoding of the file (here `utf-8`, which is to say 'unicode').\n",
        "<br>The `.read()` part is where the script goes where the location variable drives it to and reads the content."
      ],
      "metadata": {
        "id": "jGUc_uP5b0A2"
      }
    },
    {
      "cell_type": "code",
      "source": [
        "filepath_of_text = \"/content/miserables.txt\"\n",
        "full_text = open(filepath_of_text, encoding=\"utf-8\").read()"
      ],
      "metadata": {
        "id": "TcCGlgcycPte"
      },
      "execution_count": null,
      "outputs": []
    },
    {
      "cell_type": "markdown",
      "source": [
        "Usually in NLP some words are going to create noise that you don't want. Most of the time, those will be what we call \"stop words\", that is to say words like \"not\", \"but\", \"and\", words that have a low semantic weight.\n",
        "<br>You can find lists [here](https://github.com/orgs/stopwords-iso/repositories) for example, but you can also use several modules that give you a list of stopwords, such as `nltk` in the following cell."
      ],
      "metadata": {
        "id": "Wz1eAL4hSxkN"
      }
    },
    {
      "cell_type": "code",
      "source": [
        "import nltk\n",
        "nltk.download('stopwords')\n",
        "from nltk.corpus import stopwords\n",
        "french_stopwords = set(stopwords.words('french'))"
      ],
      "metadata": {
        "id": "2N0VIz8rSovn"
      },
      "execution_count": null,
      "outputs": []
    },
    {
      "cell_type": "code",
      "source": [
        "for word in french_stopwords:\n",
        "  print(word)"
      ],
      "metadata": {
        "id": "8JqzzVoFMw8h"
      },
      "execution_count": null,
      "outputs": []
    },
    {
      "cell_type": "markdown",
      "source": [
        "We will now create a list based on the text, without its stopwords.\n",
        "<br>This is a useful short way to populate a list, which is exactly the equivalent of:\n",
        "```python\n",
        "meaningful_words = []\n",
        "for word in all_the_words:\n",
        "  if word not in french_stopwords:\n",
        "    meaningful_words.append(word)\n",
        "```"
      ],
      "metadata": {
        "id": "d3EKNcOoUTqL"
      }
    },
    {
      "cell_type": "code",
      "source": [
        "meaningful_words = [word for word in all_the_words if word not in french_stopwords]"
      ],
      "metadata": {
        "id": "pDeoMttaThMo"
      },
      "execution_count": null,
      "outputs": []
    },
    {
      "cell_type": "markdown",
      "source": [
        "You can check the list:"
      ],
      "metadata": {
        "id": "4UCcMRpG9lT8"
      }
    },
    {
      "cell_type": "code",
      "source": [
        "meaningful_words[50:60]"
      ],
      "metadata": {
        "id": "4kxQNYk4USjX"
      },
      "execution_count": null,
      "outputs": []
    },
    {
      "cell_type": "markdown",
      "source": [
        "We are now going to count the words and see how many times each word appears."
      ],
      "metadata": {
        "id": "AWhWRG-sU_Qh"
      }
    },
    {
      "cell_type": "code",
      "source": [
        "meaningful_words_tally = Counter(meaningful_words)"
      ],
      "metadata": {
        "id": "XUC-HaP3Ue4P"
      },
      "execution_count": null,
      "outputs": []
    },
    {
      "cell_type": "markdown",
      "source": [
        "Here is a new variable : `number_of_desired_words`. This variable is an `int`, and its value is intended to be the number of words we want to see from the list `meaningful_words`.\n",
        "<br>In the following cell, we'll use a function (`.most_common(int)`) that is inherent with the `Counter` object (`meaningful_words_tally` is a `Counter` object)."
      ],
      "metadata": {
        "id": "xmGzxGLDVGgD"
      }
    },
    {
      "cell_type": "code",
      "source": [
        "number_of_desired_words = 40"
      ],
      "metadata": {
        "id": "Cy7rgo2kJWnd"
      },
      "execution_count": null,
      "outputs": []
    },
    {
      "cell_type": "code",
      "source": [
        "most_frequent_meaningful_words = meaningful_words_tally.most_common(number_of_desired_words)"
      ],
      "metadata": {
        "id": "kC3RQy3JUnd2"
      },
      "execution_count": null,
      "outputs": []
    },
    {
      "cell_type": "code",
      "source": [
        "most_frequent_meaningful_words"
      ],
      "metadata": {
        "id": "nXicGIplUrMp"
      },
      "execution_count": null,
      "outputs": []
    },
    {
      "cell_type": "markdown",
      "source": [
        "You can see that loads of useless words remain : that's why in many cases you'll have to build your own list of stopwords."
      ],
      "metadata": {
        "id": "RHAJZBPKJvnp"
      }
    }
  ]
}